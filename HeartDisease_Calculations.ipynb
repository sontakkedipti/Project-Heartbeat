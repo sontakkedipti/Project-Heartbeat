{
 "cells": [
  {
   "cell_type": "code",
   "execution_count": 5,
   "id": "577da063",
   "metadata": {},
   "outputs": [],
   "source": [
    "# Import pandas and our pymongo library, which lets us connect our Flask app to our Mongo database.\n",
    "import pandas as pd\n",
    "import pymongo\n",
    "import requests"
   ]
  },
  {
   "cell_type": "code",
   "execution_count": 6,
   "id": "50998836",
   "metadata": {},
   "outputs": [],
   "source": [
    "#Read in the Heart Disease .CSV Dataset change Yes/No in data to boolean True/False \n",
    "data = pd.read_csv('./heart_2020_cleaned.csv').replace({'Yes': True, 'No': False})"
   ]
  },
  {
   "cell_type": "code",
   "execution_count": 7,
   "id": "ed40174d",
   "metadata": {},
   "outputs": [],
   "source": [
    "# Initialize PyMongo to work with MongoDBs\n",
    "conn = 'mongodb://localhost:27017'\n",
    "client = pymongo.MongoClient(conn)"
   ]
  },
  {
   "cell_type": "code",
   "execution_count": 50,
   "id": "b828c189",
   "metadata": {},
   "outputs": [],
   "source": [
    "#Refresh the collections in Heart_db\n",
    "#heartdb.mvf.drop()\n",
    "#heartdb.comorb_rate.drop()\n",
    "#heartdb.lifestyle_rate.drop()\n",
    "#heartdb.heartData.drop()"
   ]
  },
  {
   "cell_type": "code",
   "execution_count": 8,
   "id": "820d032e",
   "metadata": {},
   "outputs": [],
   "source": [
    "# Export data to MongoDB\n",
    "heartdb = client.heart_db"
   ]
  },
  {
   "cell_type": "code",
   "execution_count": 4,
   "id": "356b64f1",
   "metadata": {},
   "outputs": [
    {
     "data": {
      "text/plain": [
       "<pymongo.results.InsertManyResult at 0x1e4af773508>"
      ]
     },
     "execution_count": 4,
     "metadata": {},
     "output_type": "execute_result"
    }
   ],
   "source": [
    "collection = heartdb.heartData\n",
    "data_dict = data.to_dict(\"records\")\n",
    "collection.insert_many(data_dict)"
   ]
  },
  {
   "cell_type": "code",
   "execution_count": 9,
   "id": "762126c8",
   "metadata": {},
   "outputs": [],
   "source": [
    "heartData = list(heartdb.heartData.find())\n",
    "finalData = []\n",
    "for data in heartData:\n",
    "    del data['_id']\n",
    "    finalData.append(data)"
   ]
  },
  {
   "cell_type": "code",
   "execution_count": 10,
   "id": "5050b676",
   "metadata": {},
   "outputs": [
    {
     "data": {
      "text/html": [
       "<div>\n",
       "<style scoped>\n",
       "    .dataframe tbody tr th:only-of-type {\n",
       "        vertical-align: middle;\n",
       "    }\n",
       "\n",
       "    .dataframe tbody tr th {\n",
       "        vertical-align: top;\n",
       "    }\n",
       "\n",
       "    .dataframe thead th {\n",
       "        text-align: right;\n",
       "    }\n",
       "</style>\n",
       "<table border=\"1\" class=\"dataframe\">\n",
       "  <thead>\n",
       "    <tr style=\"text-align: right;\">\n",
       "      <th></th>\n",
       "      <th>HeartDisease</th>\n",
       "      <th>BMI</th>\n",
       "      <th>Smoking</th>\n",
       "      <th>AlcoholDrinking</th>\n",
       "      <th>Stroke</th>\n",
       "      <th>PhysicalHealth</th>\n",
       "      <th>MentalHealth</th>\n",
       "      <th>DiffWalking</th>\n",
       "      <th>Sex</th>\n",
       "      <th>AgeCategory</th>\n",
       "      <th>Race</th>\n",
       "      <th>Diabetic</th>\n",
       "      <th>PhysicalActivity</th>\n",
       "      <th>GenHealth</th>\n",
       "      <th>SleepTime</th>\n",
       "      <th>Asthma</th>\n",
       "      <th>KidneyDisease</th>\n",
       "      <th>SkinCancer</th>\n",
       "    </tr>\n",
       "  </thead>\n",
       "  <tbody>\n",
       "    <tr>\n",
       "      <th>0</th>\n",
       "      <td>False</td>\n",
       "      <td>16.60</td>\n",
       "      <td>True</td>\n",
       "      <td>False</td>\n",
       "      <td>False</td>\n",
       "      <td>3.0</td>\n",
       "      <td>30.0</td>\n",
       "      <td>False</td>\n",
       "      <td>Female</td>\n",
       "      <td>55-59</td>\n",
       "      <td>White</td>\n",
       "      <td>True</td>\n",
       "      <td>True</td>\n",
       "      <td>Very good</td>\n",
       "      <td>5.0</td>\n",
       "      <td>True</td>\n",
       "      <td>False</td>\n",
       "      <td>True</td>\n",
       "    </tr>\n",
       "    <tr>\n",
       "      <th>1</th>\n",
       "      <td>False</td>\n",
       "      <td>20.34</td>\n",
       "      <td>False</td>\n",
       "      <td>False</td>\n",
       "      <td>True</td>\n",
       "      <td>0.0</td>\n",
       "      <td>0.0</td>\n",
       "      <td>False</td>\n",
       "      <td>Female</td>\n",
       "      <td>80 or older</td>\n",
       "      <td>White</td>\n",
       "      <td>False</td>\n",
       "      <td>True</td>\n",
       "      <td>Very good</td>\n",
       "      <td>7.0</td>\n",
       "      <td>False</td>\n",
       "      <td>False</td>\n",
       "      <td>False</td>\n",
       "    </tr>\n",
       "    <tr>\n",
       "      <th>2</th>\n",
       "      <td>False</td>\n",
       "      <td>26.58</td>\n",
       "      <td>True</td>\n",
       "      <td>False</td>\n",
       "      <td>False</td>\n",
       "      <td>20.0</td>\n",
       "      <td>30.0</td>\n",
       "      <td>False</td>\n",
       "      <td>Male</td>\n",
       "      <td>65-69</td>\n",
       "      <td>White</td>\n",
       "      <td>True</td>\n",
       "      <td>True</td>\n",
       "      <td>Fair</td>\n",
       "      <td>8.0</td>\n",
       "      <td>True</td>\n",
       "      <td>False</td>\n",
       "      <td>False</td>\n",
       "    </tr>\n",
       "    <tr>\n",
       "      <th>3</th>\n",
       "      <td>False</td>\n",
       "      <td>24.21</td>\n",
       "      <td>False</td>\n",
       "      <td>False</td>\n",
       "      <td>False</td>\n",
       "      <td>0.0</td>\n",
       "      <td>0.0</td>\n",
       "      <td>False</td>\n",
       "      <td>Female</td>\n",
       "      <td>75-79</td>\n",
       "      <td>White</td>\n",
       "      <td>False</td>\n",
       "      <td>False</td>\n",
       "      <td>Good</td>\n",
       "      <td>6.0</td>\n",
       "      <td>False</td>\n",
       "      <td>False</td>\n",
       "      <td>True</td>\n",
       "    </tr>\n",
       "    <tr>\n",
       "      <th>4</th>\n",
       "      <td>False</td>\n",
       "      <td>23.71</td>\n",
       "      <td>False</td>\n",
       "      <td>False</td>\n",
       "      <td>False</td>\n",
       "      <td>28.0</td>\n",
       "      <td>0.0</td>\n",
       "      <td>True</td>\n",
       "      <td>Female</td>\n",
       "      <td>40-44</td>\n",
       "      <td>White</td>\n",
       "      <td>False</td>\n",
       "      <td>True</td>\n",
       "      <td>Very good</td>\n",
       "      <td>8.0</td>\n",
       "      <td>False</td>\n",
       "      <td>False</td>\n",
       "      <td>False</td>\n",
       "    </tr>\n",
       "    <tr>\n",
       "      <th>...</th>\n",
       "      <td>...</td>\n",
       "      <td>...</td>\n",
       "      <td>...</td>\n",
       "      <td>...</td>\n",
       "      <td>...</td>\n",
       "      <td>...</td>\n",
       "      <td>...</td>\n",
       "      <td>...</td>\n",
       "      <td>...</td>\n",
       "      <td>...</td>\n",
       "      <td>...</td>\n",
       "      <td>...</td>\n",
       "      <td>...</td>\n",
       "      <td>...</td>\n",
       "      <td>...</td>\n",
       "      <td>...</td>\n",
       "      <td>...</td>\n",
       "      <td>...</td>\n",
       "    </tr>\n",
       "    <tr>\n",
       "      <th>319790</th>\n",
       "      <td>True</td>\n",
       "      <td>27.41</td>\n",
       "      <td>True</td>\n",
       "      <td>False</td>\n",
       "      <td>False</td>\n",
       "      <td>7.0</td>\n",
       "      <td>0.0</td>\n",
       "      <td>True</td>\n",
       "      <td>Male</td>\n",
       "      <td>60-64</td>\n",
       "      <td>Hispanic</td>\n",
       "      <td>True</td>\n",
       "      <td>False</td>\n",
       "      <td>Fair</td>\n",
       "      <td>6.0</td>\n",
       "      <td>True</td>\n",
       "      <td>False</td>\n",
       "      <td>False</td>\n",
       "    </tr>\n",
       "    <tr>\n",
       "      <th>319791</th>\n",
       "      <td>False</td>\n",
       "      <td>29.84</td>\n",
       "      <td>True</td>\n",
       "      <td>False</td>\n",
       "      <td>False</td>\n",
       "      <td>0.0</td>\n",
       "      <td>0.0</td>\n",
       "      <td>False</td>\n",
       "      <td>Male</td>\n",
       "      <td>35-39</td>\n",
       "      <td>Hispanic</td>\n",
       "      <td>False</td>\n",
       "      <td>True</td>\n",
       "      <td>Very good</td>\n",
       "      <td>5.0</td>\n",
       "      <td>True</td>\n",
       "      <td>False</td>\n",
       "      <td>False</td>\n",
       "    </tr>\n",
       "    <tr>\n",
       "      <th>319792</th>\n",
       "      <td>False</td>\n",
       "      <td>24.24</td>\n",
       "      <td>False</td>\n",
       "      <td>False</td>\n",
       "      <td>False</td>\n",
       "      <td>0.0</td>\n",
       "      <td>0.0</td>\n",
       "      <td>False</td>\n",
       "      <td>Female</td>\n",
       "      <td>45-49</td>\n",
       "      <td>Hispanic</td>\n",
       "      <td>False</td>\n",
       "      <td>True</td>\n",
       "      <td>Good</td>\n",
       "      <td>6.0</td>\n",
       "      <td>False</td>\n",
       "      <td>False</td>\n",
       "      <td>False</td>\n",
       "    </tr>\n",
       "    <tr>\n",
       "      <th>319793</th>\n",
       "      <td>False</td>\n",
       "      <td>32.81</td>\n",
       "      <td>False</td>\n",
       "      <td>False</td>\n",
       "      <td>False</td>\n",
       "      <td>0.0</td>\n",
       "      <td>0.0</td>\n",
       "      <td>False</td>\n",
       "      <td>Female</td>\n",
       "      <td>25-29</td>\n",
       "      <td>Hispanic</td>\n",
       "      <td>False</td>\n",
       "      <td>False</td>\n",
       "      <td>Good</td>\n",
       "      <td>12.0</td>\n",
       "      <td>False</td>\n",
       "      <td>False</td>\n",
       "      <td>False</td>\n",
       "    </tr>\n",
       "    <tr>\n",
       "      <th>319794</th>\n",
       "      <td>False</td>\n",
       "      <td>46.56</td>\n",
       "      <td>False</td>\n",
       "      <td>False</td>\n",
       "      <td>False</td>\n",
       "      <td>0.0</td>\n",
       "      <td>0.0</td>\n",
       "      <td>False</td>\n",
       "      <td>Female</td>\n",
       "      <td>80 or older</td>\n",
       "      <td>Hispanic</td>\n",
       "      <td>False</td>\n",
       "      <td>True</td>\n",
       "      <td>Good</td>\n",
       "      <td>8.0</td>\n",
       "      <td>False</td>\n",
       "      <td>False</td>\n",
       "      <td>False</td>\n",
       "    </tr>\n",
       "  </tbody>\n",
       "</table>\n",
       "<p>319795 rows × 18 columns</p>\n",
       "</div>"
      ],
      "text/plain": [
       "        HeartDisease    BMI  Smoking  AlcoholDrinking  Stroke  PhysicalHealth  \\\n",
       "0              False  16.60     True            False   False             3.0   \n",
       "1              False  20.34    False            False    True             0.0   \n",
       "2              False  26.58     True            False   False            20.0   \n",
       "3              False  24.21    False            False   False             0.0   \n",
       "4              False  23.71    False            False   False            28.0   \n",
       "...              ...    ...      ...              ...     ...             ...   \n",
       "319790          True  27.41     True            False   False             7.0   \n",
       "319791         False  29.84     True            False   False             0.0   \n",
       "319792         False  24.24    False            False   False             0.0   \n",
       "319793         False  32.81    False            False   False             0.0   \n",
       "319794         False  46.56    False            False   False             0.0   \n",
       "\n",
       "        MentalHealth  DiffWalking     Sex  AgeCategory      Race Diabetic  \\\n",
       "0               30.0        False  Female        55-59     White     True   \n",
       "1                0.0        False  Female  80 or older     White    False   \n",
       "2               30.0        False    Male        65-69     White     True   \n",
       "3                0.0        False  Female        75-79     White    False   \n",
       "4                0.0         True  Female        40-44     White    False   \n",
       "...              ...          ...     ...          ...       ...      ...   \n",
       "319790           0.0         True    Male        60-64  Hispanic     True   \n",
       "319791           0.0        False    Male        35-39  Hispanic    False   \n",
       "319792           0.0        False  Female        45-49  Hispanic    False   \n",
       "319793           0.0        False  Female        25-29  Hispanic    False   \n",
       "319794           0.0        False  Female  80 or older  Hispanic    False   \n",
       "\n",
       "        PhysicalActivity  GenHealth  SleepTime  Asthma  KidneyDisease  \\\n",
       "0                   True  Very good        5.0    True          False   \n",
       "1                   True  Very good        7.0   False          False   \n",
       "2                   True       Fair        8.0    True          False   \n",
       "3                  False       Good        6.0   False          False   \n",
       "4                   True  Very good        8.0   False          False   \n",
       "...                  ...        ...        ...     ...            ...   \n",
       "319790             False       Fair        6.0    True          False   \n",
       "319791              True  Very good        5.0    True          False   \n",
       "319792              True       Good        6.0   False          False   \n",
       "319793             False       Good       12.0   False          False   \n",
       "319794              True       Good        8.0   False          False   \n",
       "\n",
       "        SkinCancer  \n",
       "0             True  \n",
       "1            False  \n",
       "2            False  \n",
       "3             True  \n",
       "4            False  \n",
       "...            ...  \n",
       "319790       False  \n",
       "319791       False  \n",
       "319792       False  \n",
       "319793       False  \n",
       "319794       False  \n",
       "\n",
       "[319795 rows x 18 columns]"
      ]
     },
     "execution_count": 10,
     "metadata": {},
     "output_type": "execute_result"
    }
   ],
   "source": [
    "df = pd.DataFrame(finalData)\n",
    "df"
   ]
  },
  {
   "cell_type": "code",
   "execution_count": 8,
   "id": "ba6206f3",
   "metadata": {},
   "outputs": [
    {
     "data": {
      "text/plain": [
       "0.10618461740904007"
      ]
     },
     "execution_count": 8,
     "metadata": {},
     "output_type": "execute_result"
    }
   ],
   "source": [
    "#Identify the number of males with heart disease and return the percent \n",
    "male = df[df['Sex'] == 'Male']\n",
    "# male.head()\n",
    "male['HeartDisease'].value_counts()\n",
    "male_no = male['HeartDisease'].value_counts()[False]\n",
    "# male_no\n",
    "male_yes = male['HeartDisease'].value_counts()[True]\n",
    "# male_yes\n",
    "male_per = (male_yes /(male_no+male_yes))\n",
    "male_per"
   ]
  },
  {
   "cell_type": "code",
   "execution_count": null,
   "id": "a86c9119",
   "metadata": {},
   "outputs": [],
   "source": [
    "male['HeartDisease'].value_counts()"
   ]
  },
  {
   "cell_type": "code",
   "execution_count": 9,
   "id": "8729eae1",
   "metadata": {},
   "outputs": [
    {
     "data": {
      "text/plain": [
       "0.06694675367241738"
      ]
     },
     "execution_count": 9,
     "metadata": {},
     "output_type": "execute_result"
    }
   ],
   "source": [
    "#Identify the number of males with heart disease and return the percent \n",
    "df = pd.DataFrame(finalData)\n",
    "female = df[df['Sex'] == 'Female']\n",
    "# female.head()\n",
    "female['HeartDisease'].value_counts()\n",
    "female_no = female['HeartDisease'].value_counts()[False]\n",
    "# female_no\n",
    "female_yes = female['HeartDisease'].value_counts()[True]\n",
    "# female_yes\n",
    "female_per = (female_yes /(female_no + female_yes))\n",
    "female_per"
   ]
  },
  {
   "cell_type": "code",
   "execution_count": 10,
   "id": "fa95cae0",
   "metadata": {},
   "outputs": [
    {
     "data": {
      "text/plain": [
       "{'male': 0.10618461740904007, 'female': 0.06694675367241738}"
      ]
     },
     "execution_count": 10,
     "metadata": {},
     "output_type": "execute_result"
    }
   ],
   "source": [
    "#Create dictionary that will be loaded as a collection\n",
    "mvf = {\"male\": male_per, \"female\":female_per}\n",
    "mvf"
   ]
  },
  {
   "cell_type": "code",
   "execution_count": null,
   "id": "beb07222",
   "metadata": {},
   "outputs": [],
   "source": [
    "df.corr()"
   ]
  },
  {
   "cell_type": "code",
   "execution_count": 11,
   "id": "ece48e14",
   "metadata": {},
   "outputs": [],
   "source": [
    "# Export data to MongoDB\n",
    "heartdb = client.heart_db\n",
    "collection = heartdb.mvf\n",
    "new_item = collection.insert_one(mvf)\n"
   ]
  },
  {
   "cell_type": "code",
   "execution_count": 12,
   "id": "039ea7d2",
   "metadata": {},
   "outputs": [
    {
     "data": {
      "text/plain": [
       "Index(['HeartDisease', 'BMI', 'Smoking', 'AlcoholDrinking', 'Stroke',\n",
       "       'PhysicalHealth', 'MentalHealth', 'DiffWalking', 'Sex', 'AgeCategory',\n",
       "       'Race', 'Diabetic', 'PhysicalActivity', 'GenHealth', 'SleepTime',\n",
       "       'Asthma', 'KidneyDisease', 'SkinCancer'],\n",
       "      dtype='object')"
      ]
     },
     "execution_count": 12,
     "metadata": {},
     "output_type": "execute_result"
    }
   ],
   "source": [
    "df.columns"
   ]
  },
  {
   "cell_type": "code",
   "execution_count": 52,
   "id": "15bdbd80",
   "metadata": {},
   "outputs": [],
   "source": [
    "#Isolate the Comorbidity diseases \n",
    "co_morb_cols = ['Stroke','Diabetic', 'Asthma', 'KidneyDisease', 'SkinCancer']"
   ]
  },
  {
   "cell_type": "code",
   "execution_count": 53,
   "id": "150722e0",
   "metadata": {},
   "outputs": [
    {
     "name": "stderr",
     "output_type": "stream",
     "text": [
      "C:\\Users\\huntl\\anaconda3\\envs\\PythonData\\lib\\site-packages\\ipykernel_launcher.py:1: FutureWarning: Dropping of nuisance columns in DataFrame reductions (with 'numeric_only=None') is deprecated; in a future version this will raise TypeError.  Select only valid columns before calling the reduction.\n",
      "  \"\"\"Entry point for launching an IPython kernel.\n",
      "C:\\Users\\huntl\\anaconda3\\envs\\PythonData\\lib\\site-packages\\ipykernel_launcher.py:2: FutureWarning: Dropping of nuisance columns in DataFrame reductions (with 'numeric_only=None') is deprecated; in a future version this will raise TypeError.  Select only valid columns before calling the reduction.\n",
      "  \n"
     ]
    }
   ],
   "source": [
    "df[co_morb_cols].sum(axis=1)\n",
    "df[\"CoMorb\"] = df[co_morb_cols].sum(axis=1)"
   ]
  },
  {
   "cell_type": "code",
   "execution_count": 54,
   "id": "0cf4faf4",
   "metadata": {},
   "outputs": [
    {
     "data": {
      "text/html": [
       "<div>\n",
       "<style scoped>\n",
       "    .dataframe tbody tr th:only-of-type {\n",
       "        vertical-align: middle;\n",
       "    }\n",
       "\n",
       "    .dataframe tbody tr th {\n",
       "        vertical-align: top;\n",
       "    }\n",
       "\n",
       "    .dataframe thead th {\n",
       "        text-align: right;\n",
       "    }\n",
       "</style>\n",
       "<table border=\"1\" class=\"dataframe\">\n",
       "  <thead>\n",
       "    <tr style=\"text-align: right;\">\n",
       "      <th></th>\n",
       "      <th>HeartDisease</th>\n",
       "      <th>BMI</th>\n",
       "      <th>Smoking</th>\n",
       "      <th>AlcoholDrinking</th>\n",
       "      <th>Stroke</th>\n",
       "      <th>PhysicalHealth</th>\n",
       "      <th>MentalHealth</th>\n",
       "      <th>DiffWalking</th>\n",
       "      <th>Sex</th>\n",
       "      <th>AgeCategory</th>\n",
       "      <th>Race</th>\n",
       "      <th>Diabetic</th>\n",
       "      <th>PhysicalActivity</th>\n",
       "      <th>GenHealth</th>\n",
       "      <th>SleepTime</th>\n",
       "      <th>Asthma</th>\n",
       "      <th>KidneyDisease</th>\n",
       "      <th>SkinCancer</th>\n",
       "      <th>Lifestyle</th>\n",
       "      <th>CoMorb</th>\n",
       "    </tr>\n",
       "  </thead>\n",
       "  <tbody>\n",
       "    <tr>\n",
       "      <th>0</th>\n",
       "      <td>False</td>\n",
       "      <td>16.60</td>\n",
       "      <td>True</td>\n",
       "      <td>False</td>\n",
       "      <td>False</td>\n",
       "      <td>3.0</td>\n",
       "      <td>30.0</td>\n",
       "      <td>False</td>\n",
       "      <td>Female</td>\n",
       "      <td>55-59</td>\n",
       "      <td>White</td>\n",
       "      <td>True</td>\n",
       "      <td>True</td>\n",
       "      <td>Very good</td>\n",
       "      <td>5.0</td>\n",
       "      <td>True</td>\n",
       "      <td>False</td>\n",
       "      <td>True</td>\n",
       "      <td>2</td>\n",
       "      <td>2</td>\n",
       "    </tr>\n",
       "    <tr>\n",
       "      <th>1</th>\n",
       "      <td>False</td>\n",
       "      <td>20.34</td>\n",
       "      <td>False</td>\n",
       "      <td>False</td>\n",
       "      <td>True</td>\n",
       "      <td>0.0</td>\n",
       "      <td>0.0</td>\n",
       "      <td>False</td>\n",
       "      <td>Female</td>\n",
       "      <td>80 or older</td>\n",
       "      <td>White</td>\n",
       "      <td>False</td>\n",
       "      <td>True</td>\n",
       "      <td>Very good</td>\n",
       "      <td>7.0</td>\n",
       "      <td>False</td>\n",
       "      <td>False</td>\n",
       "      <td>False</td>\n",
       "      <td>1</td>\n",
       "      <td>1</td>\n",
       "    </tr>\n",
       "    <tr>\n",
       "      <th>2</th>\n",
       "      <td>False</td>\n",
       "      <td>26.58</td>\n",
       "      <td>True</td>\n",
       "      <td>False</td>\n",
       "      <td>False</td>\n",
       "      <td>20.0</td>\n",
       "      <td>30.0</td>\n",
       "      <td>False</td>\n",
       "      <td>Male</td>\n",
       "      <td>65-69</td>\n",
       "      <td>White</td>\n",
       "      <td>True</td>\n",
       "      <td>True</td>\n",
       "      <td>Fair</td>\n",
       "      <td>8.0</td>\n",
       "      <td>True</td>\n",
       "      <td>False</td>\n",
       "      <td>False</td>\n",
       "      <td>2</td>\n",
       "      <td>1</td>\n",
       "    </tr>\n",
       "    <tr>\n",
       "      <th>3</th>\n",
       "      <td>False</td>\n",
       "      <td>24.21</td>\n",
       "      <td>False</td>\n",
       "      <td>False</td>\n",
       "      <td>False</td>\n",
       "      <td>0.0</td>\n",
       "      <td>0.0</td>\n",
       "      <td>False</td>\n",
       "      <td>Female</td>\n",
       "      <td>75-79</td>\n",
       "      <td>White</td>\n",
       "      <td>False</td>\n",
       "      <td>False</td>\n",
       "      <td>Good</td>\n",
       "      <td>6.0</td>\n",
       "      <td>False</td>\n",
       "      <td>False</td>\n",
       "      <td>True</td>\n",
       "      <td>0</td>\n",
       "      <td>1</td>\n",
       "    </tr>\n",
       "    <tr>\n",
       "      <th>4</th>\n",
       "      <td>False</td>\n",
       "      <td>23.71</td>\n",
       "      <td>False</td>\n",
       "      <td>False</td>\n",
       "      <td>False</td>\n",
       "      <td>28.0</td>\n",
       "      <td>0.0</td>\n",
       "      <td>True</td>\n",
       "      <td>Female</td>\n",
       "      <td>40-44</td>\n",
       "      <td>White</td>\n",
       "      <td>False</td>\n",
       "      <td>True</td>\n",
       "      <td>Very good</td>\n",
       "      <td>8.0</td>\n",
       "      <td>False</td>\n",
       "      <td>False</td>\n",
       "      <td>False</td>\n",
       "      <td>2</td>\n",
       "      <td>0</td>\n",
       "    </tr>\n",
       "  </tbody>\n",
       "</table>\n",
       "</div>"
      ],
      "text/plain": [
       "   HeartDisease    BMI  Smoking  AlcoholDrinking  Stroke  PhysicalHealth  \\\n",
       "0         False  16.60     True            False   False             3.0   \n",
       "1         False  20.34    False            False    True             0.0   \n",
       "2         False  26.58     True            False   False            20.0   \n",
       "3         False  24.21    False            False   False             0.0   \n",
       "4         False  23.71    False            False   False            28.0   \n",
       "\n",
       "   MentalHealth  DiffWalking     Sex  AgeCategory   Race Diabetic  \\\n",
       "0          30.0        False  Female        55-59  White     True   \n",
       "1           0.0        False  Female  80 or older  White    False   \n",
       "2          30.0        False    Male        65-69  White     True   \n",
       "3           0.0        False  Female        75-79  White    False   \n",
       "4           0.0         True  Female        40-44  White    False   \n",
       "\n",
       "   PhysicalActivity  GenHealth  SleepTime  Asthma  KidneyDisease  SkinCancer  \\\n",
       "0              True  Very good        5.0    True          False        True   \n",
       "1              True  Very good        7.0   False          False       False   \n",
       "2              True       Fair        8.0    True          False       False   \n",
       "3             False       Good        6.0   False          False        True   \n",
       "4              True  Very good        8.0   False          False       False   \n",
       "\n",
       "   Lifestyle  CoMorb  \n",
       "0          2       2  \n",
       "1          1       1  \n",
       "2          2       1  \n",
       "3          0       1  \n",
       "4          2       0  "
      ]
     },
     "execution_count": 54,
     "metadata": {},
     "output_type": "execute_result"
    }
   ],
   "source": [
    "df.head()"
   ]
  },
  {
   "cell_type": "code",
   "execution_count": 55,
   "id": "d72bd70f",
   "metadata": {},
   "outputs": [
    {
     "data": {
      "text/plain": [
       "CoMorb\n",
       "0    236273\n",
       "1     71866\n",
       "2     10371\n",
       "3      1209\n",
       "4        76\n",
       "Name: HeartDisease, dtype: int64"
      ]
     },
     "execution_count": 55,
     "metadata": {},
     "output_type": "execute_result"
    }
   ],
   "source": [
    "comorb_count = df.groupby(\"CoMorb\")['HeartDisease'].count()\n",
    "comorb_count"
   ]
  },
  {
   "cell_type": "code",
   "execution_count": 56,
   "id": "201cc149",
   "metadata": {},
   "outputs": [
    {
     "data": {
      "text/plain": [
       "CoMorb\n",
       "0    13959\n",
       "1     9749\n",
       "2     3042\n",
       "3      568\n",
       "4       55\n",
       "Name: HeartDisease, dtype: int64"
      ]
     },
     "execution_count": 56,
     "metadata": {},
     "output_type": "execute_result"
    }
   ],
   "source": [
    "comorb_sum = df.groupby(\"CoMorb\")['HeartDisease'].sum()\n",
    "comorb_sum"
   ]
  },
  {
   "cell_type": "code",
   "execution_count": 57,
   "id": "97f27c39",
   "metadata": {},
   "outputs": [],
   "source": [
    "c_rate = comorb_sum/comorb_count\n",
    "comorb_rate = c_rate.to_dict()"
   ]
  },
  {
   "cell_type": "code",
   "execution_count": 58,
   "id": "9f158dc7",
   "metadata": {},
   "outputs": [],
   "source": [
    "def map_fields(obj):\n",
    "    new_obj = {}\n",
    "    mapping_dict = {0: 'A0', 1: 'A1', 2: 'A2', 3:'A3', 4: 'A4'}\n",
    "    for key in obj.keys():\n",
    "        if key in mapping_dict:\n",
    "            new_key = mapping_dict[key]\n",
    "        else:\n",
    "            new_key = key\n",
    "        new_obj[new_key] = obj[key]\n",
    "    return new_obj"
   ]
  },
  {
   "cell_type": "code",
   "execution_count": 59,
   "id": "73502d8d",
   "metadata": {},
   "outputs": [
    {
     "data": {
      "text/plain": [
       "{'A0': 0.05907996258565304,\n",
       " 'A1': 0.13565524726574457,\n",
       " 'A2': 0.29331790569858257,\n",
       " 'A3': 0.46980976013234077,\n",
       " 'A4': 0.7236842105263158}"
      ]
     },
     "execution_count": 59,
     "metadata": {},
     "output_type": "execute_result"
    }
   ],
   "source": [
    "all_comorb_dict = map_fields(comorb_rate)\n",
    "all_comorb_dict"
   ]
  },
  {
   "cell_type": "code",
   "execution_count": null,
   "id": "449e6987",
   "metadata": {},
   "outputs": [],
   "source": [
    "df"
   ]
  },
  {
   "cell_type": "code",
   "execution_count": 60,
   "id": "d1a3fa99",
   "metadata": {},
   "outputs": [
    {
     "data": {
      "text/plain": [
       "CoMorb  Sex   \n",
       "0       Female    5337\n",
       "        Male      8622\n",
       "1       Female    4121\n",
       "        Male      5628\n",
       "2       Female    1456\n",
       "        Male      1586\n",
       "3       Female     295\n",
       "        Male       273\n",
       "4       Female      25\n",
       "        Male        30\n",
       "Name: HeartDisease, dtype: int64"
      ]
     },
     "execution_count": 60,
     "metadata": {},
     "output_type": "execute_result"
    }
   ],
   "source": [
    "comorb_G_sum = df.groupby([\"CoMorb\",\"Sex\"])['HeartDisease'].sum()\n",
    "comorb_G_sum"
   ]
  },
  {
   "cell_type": "code",
   "execution_count": 61,
   "id": "11e051ca",
   "metadata": {},
   "outputs": [
    {
     "data": {
      "text/plain": [
       "CoMorb  Sex   \n",
       "0       Female    121080\n",
       "        Male      115193\n",
       "1       Female     40066\n",
       "        Male       31800\n",
       "2       Female      5917\n",
       "        Male        4454\n",
       "3       Female       703\n",
       "        Male         506\n",
       "4       Female        39\n",
       "        Male          37\n",
       "Name: HeartDisease, dtype: int64"
      ]
     },
     "execution_count": 61,
     "metadata": {},
     "output_type": "execute_result"
    }
   ],
   "source": [
    "comorb_G_count = df.groupby([\"CoMorb\",\"Sex\"])['HeartDisease'].count()\n",
    "comorb_G_count"
   ]
  },
  {
   "cell_type": "code",
   "execution_count": 62,
   "id": "c376ee6b",
   "metadata": {},
   "outputs": [
    {
     "data": {
      "text/plain": [
       "CoMorb  Sex   \n",
       "0       Female    0.044078\n",
       "        Male      0.074848\n",
       "1       Female    0.102855\n",
       "        Male      0.176981\n",
       "2       Female    0.246071\n",
       "        Male      0.356084\n",
       "3       Female    0.419630\n",
       "        Male      0.539526\n",
       "4       Female    0.641026\n",
       "        Male      0.810811\n",
       "Name: HeartDisease, dtype: float64"
      ]
     },
     "execution_count": 62,
     "metadata": {},
     "output_type": "execute_result"
    }
   ],
   "source": [
    "gen_comorb_rate = comorb_G_sum/comorb_G_count\n",
    "gen_comorb_rate"
   ]
  },
  {
   "cell_type": "code",
   "execution_count": 63,
   "id": "b6429a08",
   "metadata": {},
   "outputs": [],
   "source": [
    "test2 = gen_comorb_rate.to_dict()\n"
   ]
  },
  {
   "cell_type": "code",
   "execution_count": 38,
   "id": "4a71f6f5",
   "metadata": {},
   "outputs": [],
   "source": [
    "def map_fields2(obj):\n",
    "    new_obj = {}\n",
    "    mapping_dict = {(0, 'Female'): 'F0',(0, 'Male'): 'M0', \n",
    "                    (1, 'Female'): 'F1',(1, 'Male'): 'M1',\n",
    "                    (2, 'Female'): 'F2',(2, 'Male'): 'M2', \n",
    "                    (3, 'Female'): 'F3',(3, 'Male'): 'M3',\n",
    "                    (4, 'Female'): 'F4',(4, 'Male'): 'M4', }\n",
    "    for key in obj.keys():\n",
    "        if key in mapping_dict:\n",
    "            new_key = mapping_dict[key]\n",
    "        else:\n",
    "            new_key = key\n",
    "        new_obj[new_key] = obj[key]\n",
    "    return new_obj"
   ]
  },
  {
   "cell_type": "code",
   "execution_count": 64,
   "id": "05b65ab4",
   "metadata": {},
   "outputs": [
    {
     "data": {
      "text/plain": [
       "{'F0': 0.044078295341922695,\n",
       " 'M0': 0.07484829807366768,\n",
       " 'F1': 0.10285528877352369,\n",
       " 'M1': 0.1769811320754717,\n",
       " 'F2': 0.2460706439073855,\n",
       " 'M2': 0.35608441850022454,\n",
       " 'F3': 0.41963015647226176,\n",
       " 'M3': 0.5395256916996047,\n",
       " 'F4': 0.6410256410256411,\n",
       " 'M4': 0.8108108108108109}"
      ]
     },
     "execution_count": 64,
     "metadata": {},
     "output_type": "execute_result"
    }
   ],
   "source": [
    "mf_comorb_dict = map_fields2(test2)\n",
    "mf_comorb_dict"
   ]
  },
  {
   "cell_type": "code",
   "execution_count": 65,
   "id": "1a8c0bdc",
   "metadata": {},
   "outputs": [
    {
     "data": {
      "text/plain": [
       "{'A0': 0.05907996258565304,\n",
       " 'A1': 0.13565524726574457,\n",
       " 'A2': 0.29331790569858257,\n",
       " 'A3': 0.46980976013234077,\n",
       " 'A4': 0.7236842105263158,\n",
       " 'F0': 0.044078295341922695,\n",
       " 'M0': 0.07484829807366768,\n",
       " 'F1': 0.10285528877352369,\n",
       " 'M1': 0.1769811320754717,\n",
       " 'F2': 0.2460706439073855,\n",
       " 'M2': 0.35608441850022454,\n",
       " 'F3': 0.41963015647226176,\n",
       " 'M3': 0.5395256916996047,\n",
       " 'F4': 0.6410256410256411,\n",
       " 'M4': 0.8108108108108109}"
      ]
     },
     "execution_count": 65,
     "metadata": {},
     "output_type": "execute_result"
    }
   ],
   "source": [
    "all_comorb_dict.update(mf_comorb_dict)\n",
    "all_comorb_dict"
   ]
  },
  {
   "cell_type": "code",
   "execution_count": 66,
   "id": "f76d7733",
   "metadata": {},
   "outputs": [],
   "source": [
    "# Export data to MongoDB\n",
    "heartdb = client.heart_db\n",
    "collection = heartdb.comorb_rate\n",
    "new_item = collection.insert_one(all_comorb_dict)"
   ]
  },
  {
   "cell_type": "code",
   "execution_count": 67,
   "id": "e03b5f7b",
   "metadata": {},
   "outputs": [],
   "source": [
    "df.columns"
   ]
  },
  {
   "cell_type": "code",
   "execution_count": 17,
   "id": "5ce1c1e4",
   "metadata": {},
   "outputs": [],
   "source": [
    "#Isolate the Lifestyles \n",
    "life_style = ['Smoking', 'AlcoholDrinking', 'DiffWalking',\n",
    " 'PhysicalActivity']"
   ]
  },
  {
   "cell_type": "code",
   "execution_count": 18,
   "id": "9f0d7930",
   "metadata": {},
   "outputs": [],
   "source": [
    "df[life_style].sum(axis=1)\n",
    "df[\"Lifestyle\"] = df[life_style].sum(axis=1)"
   ]
  },
  {
   "cell_type": "code",
   "execution_count": 19,
   "id": "0f57c4b3",
   "metadata": {},
   "outputs": [
    {
     "data": {
      "text/html": [
       "<div>\n",
       "<style scoped>\n",
       "    .dataframe tbody tr th:only-of-type {\n",
       "        vertical-align: middle;\n",
       "    }\n",
       "\n",
       "    .dataframe tbody tr th {\n",
       "        vertical-align: top;\n",
       "    }\n",
       "\n",
       "    .dataframe thead th {\n",
       "        text-align: right;\n",
       "    }\n",
       "</style>\n",
       "<table border=\"1\" class=\"dataframe\">\n",
       "  <thead>\n",
       "    <tr style=\"text-align: right;\">\n",
       "      <th></th>\n",
       "      <th>HeartDisease</th>\n",
       "      <th>BMI</th>\n",
       "      <th>Smoking</th>\n",
       "      <th>AlcoholDrinking</th>\n",
       "      <th>Stroke</th>\n",
       "      <th>PhysicalHealth</th>\n",
       "      <th>MentalHealth</th>\n",
       "      <th>DiffWalking</th>\n",
       "      <th>Sex</th>\n",
       "      <th>AgeCategory</th>\n",
       "      <th>Race</th>\n",
       "      <th>Diabetic</th>\n",
       "      <th>PhysicalActivity</th>\n",
       "      <th>GenHealth</th>\n",
       "      <th>SleepTime</th>\n",
       "      <th>Asthma</th>\n",
       "      <th>KidneyDisease</th>\n",
       "      <th>SkinCancer</th>\n",
       "      <th>Lifestyle</th>\n",
       "    </tr>\n",
       "  </thead>\n",
       "  <tbody>\n",
       "    <tr>\n",
       "      <th>0</th>\n",
       "      <td>False</td>\n",
       "      <td>16.60</td>\n",
       "      <td>True</td>\n",
       "      <td>False</td>\n",
       "      <td>False</td>\n",
       "      <td>3.0</td>\n",
       "      <td>30.0</td>\n",
       "      <td>False</td>\n",
       "      <td>Female</td>\n",
       "      <td>55-59</td>\n",
       "      <td>White</td>\n",
       "      <td>True</td>\n",
       "      <td>True</td>\n",
       "      <td>Very good</td>\n",
       "      <td>5.0</td>\n",
       "      <td>True</td>\n",
       "      <td>False</td>\n",
       "      <td>True</td>\n",
       "      <td>2</td>\n",
       "    </tr>\n",
       "    <tr>\n",
       "      <th>1</th>\n",
       "      <td>False</td>\n",
       "      <td>20.34</td>\n",
       "      <td>False</td>\n",
       "      <td>False</td>\n",
       "      <td>True</td>\n",
       "      <td>0.0</td>\n",
       "      <td>0.0</td>\n",
       "      <td>False</td>\n",
       "      <td>Female</td>\n",
       "      <td>80 or older</td>\n",
       "      <td>White</td>\n",
       "      <td>False</td>\n",
       "      <td>True</td>\n",
       "      <td>Very good</td>\n",
       "      <td>7.0</td>\n",
       "      <td>False</td>\n",
       "      <td>False</td>\n",
       "      <td>False</td>\n",
       "      <td>1</td>\n",
       "    </tr>\n",
       "    <tr>\n",
       "      <th>2</th>\n",
       "      <td>False</td>\n",
       "      <td>26.58</td>\n",
       "      <td>True</td>\n",
       "      <td>False</td>\n",
       "      <td>False</td>\n",
       "      <td>20.0</td>\n",
       "      <td>30.0</td>\n",
       "      <td>False</td>\n",
       "      <td>Male</td>\n",
       "      <td>65-69</td>\n",
       "      <td>White</td>\n",
       "      <td>True</td>\n",
       "      <td>True</td>\n",
       "      <td>Fair</td>\n",
       "      <td>8.0</td>\n",
       "      <td>True</td>\n",
       "      <td>False</td>\n",
       "      <td>False</td>\n",
       "      <td>2</td>\n",
       "    </tr>\n",
       "    <tr>\n",
       "      <th>3</th>\n",
       "      <td>False</td>\n",
       "      <td>24.21</td>\n",
       "      <td>False</td>\n",
       "      <td>False</td>\n",
       "      <td>False</td>\n",
       "      <td>0.0</td>\n",
       "      <td>0.0</td>\n",
       "      <td>False</td>\n",
       "      <td>Female</td>\n",
       "      <td>75-79</td>\n",
       "      <td>White</td>\n",
       "      <td>False</td>\n",
       "      <td>False</td>\n",
       "      <td>Good</td>\n",
       "      <td>6.0</td>\n",
       "      <td>False</td>\n",
       "      <td>False</td>\n",
       "      <td>True</td>\n",
       "      <td>0</td>\n",
       "    </tr>\n",
       "    <tr>\n",
       "      <th>4</th>\n",
       "      <td>False</td>\n",
       "      <td>23.71</td>\n",
       "      <td>False</td>\n",
       "      <td>False</td>\n",
       "      <td>False</td>\n",
       "      <td>28.0</td>\n",
       "      <td>0.0</td>\n",
       "      <td>True</td>\n",
       "      <td>Female</td>\n",
       "      <td>40-44</td>\n",
       "      <td>White</td>\n",
       "      <td>False</td>\n",
       "      <td>True</td>\n",
       "      <td>Very good</td>\n",
       "      <td>8.0</td>\n",
       "      <td>False</td>\n",
       "      <td>False</td>\n",
       "      <td>False</td>\n",
       "      <td>2</td>\n",
       "    </tr>\n",
       "    <tr>\n",
       "      <th>...</th>\n",
       "      <td>...</td>\n",
       "      <td>...</td>\n",
       "      <td>...</td>\n",
       "      <td>...</td>\n",
       "      <td>...</td>\n",
       "      <td>...</td>\n",
       "      <td>...</td>\n",
       "      <td>...</td>\n",
       "      <td>...</td>\n",
       "      <td>...</td>\n",
       "      <td>...</td>\n",
       "      <td>...</td>\n",
       "      <td>...</td>\n",
       "      <td>...</td>\n",
       "      <td>...</td>\n",
       "      <td>...</td>\n",
       "      <td>...</td>\n",
       "      <td>...</td>\n",
       "      <td>...</td>\n",
       "    </tr>\n",
       "    <tr>\n",
       "      <th>319790</th>\n",
       "      <td>True</td>\n",
       "      <td>27.41</td>\n",
       "      <td>True</td>\n",
       "      <td>False</td>\n",
       "      <td>False</td>\n",
       "      <td>7.0</td>\n",
       "      <td>0.0</td>\n",
       "      <td>True</td>\n",
       "      <td>Male</td>\n",
       "      <td>60-64</td>\n",
       "      <td>Hispanic</td>\n",
       "      <td>True</td>\n",
       "      <td>False</td>\n",
       "      <td>Fair</td>\n",
       "      <td>6.0</td>\n",
       "      <td>True</td>\n",
       "      <td>False</td>\n",
       "      <td>False</td>\n",
       "      <td>2</td>\n",
       "    </tr>\n",
       "    <tr>\n",
       "      <th>319791</th>\n",
       "      <td>False</td>\n",
       "      <td>29.84</td>\n",
       "      <td>True</td>\n",
       "      <td>False</td>\n",
       "      <td>False</td>\n",
       "      <td>0.0</td>\n",
       "      <td>0.0</td>\n",
       "      <td>False</td>\n",
       "      <td>Male</td>\n",
       "      <td>35-39</td>\n",
       "      <td>Hispanic</td>\n",
       "      <td>False</td>\n",
       "      <td>True</td>\n",
       "      <td>Very good</td>\n",
       "      <td>5.0</td>\n",
       "      <td>True</td>\n",
       "      <td>False</td>\n",
       "      <td>False</td>\n",
       "      <td>2</td>\n",
       "    </tr>\n",
       "    <tr>\n",
       "      <th>319792</th>\n",
       "      <td>False</td>\n",
       "      <td>24.24</td>\n",
       "      <td>False</td>\n",
       "      <td>False</td>\n",
       "      <td>False</td>\n",
       "      <td>0.0</td>\n",
       "      <td>0.0</td>\n",
       "      <td>False</td>\n",
       "      <td>Female</td>\n",
       "      <td>45-49</td>\n",
       "      <td>Hispanic</td>\n",
       "      <td>False</td>\n",
       "      <td>True</td>\n",
       "      <td>Good</td>\n",
       "      <td>6.0</td>\n",
       "      <td>False</td>\n",
       "      <td>False</td>\n",
       "      <td>False</td>\n",
       "      <td>1</td>\n",
       "    </tr>\n",
       "    <tr>\n",
       "      <th>319793</th>\n",
       "      <td>False</td>\n",
       "      <td>32.81</td>\n",
       "      <td>False</td>\n",
       "      <td>False</td>\n",
       "      <td>False</td>\n",
       "      <td>0.0</td>\n",
       "      <td>0.0</td>\n",
       "      <td>False</td>\n",
       "      <td>Female</td>\n",
       "      <td>25-29</td>\n",
       "      <td>Hispanic</td>\n",
       "      <td>False</td>\n",
       "      <td>False</td>\n",
       "      <td>Good</td>\n",
       "      <td>12.0</td>\n",
       "      <td>False</td>\n",
       "      <td>False</td>\n",
       "      <td>False</td>\n",
       "      <td>0</td>\n",
       "    </tr>\n",
       "    <tr>\n",
       "      <th>319794</th>\n",
       "      <td>False</td>\n",
       "      <td>46.56</td>\n",
       "      <td>False</td>\n",
       "      <td>False</td>\n",
       "      <td>False</td>\n",
       "      <td>0.0</td>\n",
       "      <td>0.0</td>\n",
       "      <td>False</td>\n",
       "      <td>Female</td>\n",
       "      <td>80 or older</td>\n",
       "      <td>Hispanic</td>\n",
       "      <td>False</td>\n",
       "      <td>True</td>\n",
       "      <td>Good</td>\n",
       "      <td>8.0</td>\n",
       "      <td>False</td>\n",
       "      <td>False</td>\n",
       "      <td>False</td>\n",
       "      <td>1</td>\n",
       "    </tr>\n",
       "  </tbody>\n",
       "</table>\n",
       "<p>319795 rows × 19 columns</p>\n",
       "</div>"
      ],
      "text/plain": [
       "        HeartDisease    BMI  Smoking  AlcoholDrinking  Stroke  PhysicalHealth  \\\n",
       "0              False  16.60     True            False   False             3.0   \n",
       "1              False  20.34    False            False    True             0.0   \n",
       "2              False  26.58     True            False   False            20.0   \n",
       "3              False  24.21    False            False   False             0.0   \n",
       "4              False  23.71    False            False   False            28.0   \n",
       "...              ...    ...      ...              ...     ...             ...   \n",
       "319790          True  27.41     True            False   False             7.0   \n",
       "319791         False  29.84     True            False   False             0.0   \n",
       "319792         False  24.24    False            False   False             0.0   \n",
       "319793         False  32.81    False            False   False             0.0   \n",
       "319794         False  46.56    False            False   False             0.0   \n",
       "\n",
       "        MentalHealth  DiffWalking     Sex  AgeCategory      Race Diabetic  \\\n",
       "0               30.0        False  Female        55-59     White     True   \n",
       "1                0.0        False  Female  80 or older     White    False   \n",
       "2               30.0        False    Male        65-69     White     True   \n",
       "3                0.0        False  Female        75-79     White    False   \n",
       "4                0.0         True  Female        40-44     White    False   \n",
       "...              ...          ...     ...          ...       ...      ...   \n",
       "319790           0.0         True    Male        60-64  Hispanic     True   \n",
       "319791           0.0        False    Male        35-39  Hispanic    False   \n",
       "319792           0.0        False  Female        45-49  Hispanic    False   \n",
       "319793           0.0        False  Female        25-29  Hispanic    False   \n",
       "319794           0.0        False  Female  80 or older  Hispanic    False   \n",
       "\n",
       "        PhysicalActivity  GenHealth  SleepTime  Asthma  KidneyDisease  \\\n",
       "0                   True  Very good        5.0    True          False   \n",
       "1                   True  Very good        7.0   False          False   \n",
       "2                   True       Fair        8.0    True          False   \n",
       "3                  False       Good        6.0   False          False   \n",
       "4                   True  Very good        8.0   False          False   \n",
       "...                  ...        ...        ...     ...            ...   \n",
       "319790             False       Fair        6.0    True          False   \n",
       "319791              True  Very good        5.0    True          False   \n",
       "319792              True       Good        6.0   False          False   \n",
       "319793             False       Good       12.0   False          False   \n",
       "319794              True       Good        8.0   False          False   \n",
       "\n",
       "        SkinCancer  Lifestyle  \n",
       "0             True          2  \n",
       "1            False          1  \n",
       "2            False          2  \n",
       "3             True          0  \n",
       "4            False          2  \n",
       "...            ...        ...  \n",
       "319790       False          2  \n",
       "319791       False          2  \n",
       "319792       False          1  \n",
       "319793       False          0  \n",
       "319794       False          1  \n",
       "\n",
       "[319795 rows x 19 columns]"
      ]
     },
     "execution_count": 19,
     "metadata": {},
     "output_type": "execute_result"
    }
   ],
   "source": [
    "df"
   ]
  },
  {
   "cell_type": "code",
   "execution_count": 23,
   "id": "aa6b732d",
   "metadata": {},
   "outputs": [
    {
     "data": {
      "text/plain": [
       "Lifestyle\n",
       "0     25283\n",
       "1    165887\n",
       "2    106509\n",
       "3     21317\n",
       "4       799\n",
       "Name: HeartDisease, dtype: int64"
      ]
     },
     "execution_count": 23,
     "metadata": {},
     "output_type": "execute_result"
    }
   ],
   "source": [
    "ls_count = df.groupby(\"Lifestyle\")['HeartDisease'].count()\n",
    "ls_count"
   ]
  },
  {
   "cell_type": "code",
   "execution_count": 22,
   "id": "6b768a98",
   "metadata": {},
   "outputs": [
    {
     "data": {
      "text/plain": [
       "Lifestyle\n",
       "0     1606\n",
       "1    10283\n",
       "2    12154\n",
       "3     3216\n",
       "4      114\n",
       "Name: HeartDisease, dtype: int64"
      ]
     },
     "execution_count": 22,
     "metadata": {},
     "output_type": "execute_result"
    }
   ],
   "source": [
    "ls_sum = df.groupby(\"Lifestyle\")['HeartDisease'].sum()\n",
    "ls_sum"
   ]
  },
  {
   "cell_type": "code",
   "execution_count": 32,
   "id": "d1657a8f",
   "metadata": {},
   "outputs": [],
   "source": [
    "ls_rate = ls_sum/ls_count\n",
    "ls_rate = ls_rate.to_dict()"
   ]
  },
  {
   "cell_type": "code",
   "execution_count": 27,
   "id": "fbd151fb",
   "metadata": {},
   "outputs": [],
   "source": [
    "ls_G_sum = df.groupby([\"Lifestyle\",\"Sex\"])['HeartDisease'].sum()"
   ]
  },
  {
   "cell_type": "code",
   "execution_count": 28,
   "id": "95e1b44b",
   "metadata": {},
   "outputs": [],
   "source": [
    "ls_G_count = df.groupby([\"Lifestyle\",\"Sex\"])['HeartDisease'].count()"
   ]
  },
  {
   "cell_type": "code",
   "execution_count": 36,
   "id": "37e25df3",
   "metadata": {},
   "outputs": [],
   "source": [
    "ls_mf = ls_G_sum/ls_G_count\n",
    "ls_mf = ls_mf.to_dict()"
   ]
  },
  {
   "cell_type": "code",
   "execution_count": 45,
   "id": "dbd1b152",
   "metadata": {},
   "outputs": [
    {
     "data": {
      "text/plain": [
       "{'A0': 0.06352094292607681,\n",
       " 'A1': 0.06198797976936107,\n",
       " 'A2': 0.11411242242439606,\n",
       " 'A3': 0.15086550640334007,\n",
       " 'A4': 0.14267834793491865}"
      ]
     },
     "execution_count": 45,
     "metadata": {},
     "output_type": "execute_result"
    }
   ],
   "source": [
    "lsr_dict = map_fields(ls_rate)\n",
    "lsr_dict"
   ]
  },
  {
   "cell_type": "code",
   "execution_count": 46,
   "id": "6c9fa9cc",
   "metadata": {},
   "outputs": [
    {
     "data": {
      "text/plain": [
       "{'F0': 0.053662122427158516,\n",
       " 'M0': 0.07781761798623897,\n",
       " 'F1': 0.04940976569486675,\n",
       " 'M1': 0.0767097120278421,\n",
       " 'F2': 0.08895400053621356,\n",
       " 'M2': 0.1383102171630657,\n",
       " 'F3': 0.12252854358117515,\n",
       " 'M3': 0.17981790591805766,\n",
       " 'F4': 0.116751269035533,\n",
       " 'M4': 0.16790123456790124}"
      ]
     },
     "execution_count": 46,
     "metadata": {},
     "output_type": "execute_result"
    }
   ],
   "source": [
    "lsrmf_dict = map_fields2(ls_mf)\n",
    "lsrmf_dict"
   ]
  },
  {
   "cell_type": "code",
   "execution_count": 47,
   "id": "1130dc57",
   "metadata": {},
   "outputs": [
    {
     "data": {
      "text/plain": [
       "{'A0': 0.06352094292607681,\n",
       " 'A1': 0.06198797976936107,\n",
       " 'A2': 0.11411242242439606,\n",
       " 'A3': 0.15086550640334007,\n",
       " 'A4': 0.14267834793491865,\n",
       " 'F0': 0.053662122427158516,\n",
       " 'M0': 0.07781761798623897,\n",
       " 'F1': 0.04940976569486675,\n",
       " 'M1': 0.0767097120278421,\n",
       " 'F2': 0.08895400053621356,\n",
       " 'M2': 0.1383102171630657,\n",
       " 'F3': 0.12252854358117515,\n",
       " 'M3': 0.17981790591805766,\n",
       " 'F4': 0.116751269035533,\n",
       " 'M4': 0.16790123456790124}"
      ]
     },
     "execution_count": 47,
     "metadata": {},
     "output_type": "execute_result"
    }
   ],
   "source": [
    "lsr_dict.update(lsrmf_dict)\n",
    "lsr_dict"
   ]
  },
  {
   "cell_type": "code",
   "execution_count": 49,
   "id": "4464dedb",
   "metadata": {},
   "outputs": [],
   "source": [
    "# Export data to MongoDB\n",
    "heartdb = client.heart_db\n",
    "collection = heartdb.lifestyle_rate\n",
    "new_item = collection.insert_one(lsr_dict)"
   ]
  },
  {
   "cell_type": "code",
   "execution_count": null,
   "id": "76200f76",
   "metadata": {},
   "outputs": [],
   "source": []
  }
 ],
 "metadata": {
  "kernelspec": {
   "display_name": "PythonData",
   "language": "python",
   "name": "pythondata"
  },
  "language_info": {
   "codemirror_mode": {
    "name": "ipython",
    "version": 3
   },
   "file_extension": ".py",
   "mimetype": "text/x-python",
   "name": "python",
   "nbconvert_exporter": "python",
   "pygments_lexer": "ipython3",
   "version": "3.7.7"
  },
  "vscode": {
   "interpreter": {
    "hash": "edc5c2b105fc204b3a27344d1b237b3bf58a80cbd99bbc71b1e3c7c92e0e6197"
   }
  }
 },
 "nbformat": 4,
 "nbformat_minor": 5
}
